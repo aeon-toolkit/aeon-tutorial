{
 "cells": [
  {
   "cell_type": "markdown",
   "id": "9e209547-80ce-4e29-8703-3474609d6fb0",
   "metadata": {},
   "source": [
    "`KDD2024 Workshop / A Hands-On Introduction to Time Series Classification and Regression`"
   ]
  },
  {
   "cell_type": "markdown",
   "id": "4b779455-7280-4580-bb65-7e49e92dcd66",
   "metadata": {},
   "source": [
    "# *Convolutional Methods for Time Series Classification*"
   ]
  },
  {
   "cell_type": "markdown",
   "id": "fe663db4-1cc8-4714-a11c-7d586625dd60",
   "metadata": {},
   "source": [
    "## Outline"
   ]
  },
  {
   "cell_type": "markdown",
   "id": "51d08d51-7414-4924-9f7e-a83421ee04c7",
   "metadata": {},
   "source": [
    "* [Load Example Data](#Load-Example-Data)\n",
    "<br><br>\n",
    "* [Rocket](#Rocket)\n",
    "* [MiniRocket](#MiniRocket)\n",
    "    * *Parameter Tuning: **Num. Features***\n",
    "* [MultiRocket](#MultiRocket)\n",
    "* [Hydra](#Hydra)\n",
    "    * *Parameter Tuning: **Num. Groups (`g`), Num. Kernels Per Group (`k`)***\n",
    "* [MultiRocket+Hydra](#MultiRocket+Hydra)"
   ]
  },
  {
   "cell_type": "markdown",
   "id": "db597561-a1cf-4495-8d75-912a5f455956",
   "metadata": {},
   "source": [
    "<br><br><br>\n",
    "# Load Example Data"
   ]
  },
  {
   "cell_type": "code",
   "execution_count": 1,
   "id": "0223bf01-0254-4d6c-ba7a-cac1b9eaf519",
   "metadata": {},
   "outputs": [],
   "source": [
    "from aeon.datasets import load_osuleaf\n",
    "\n",
    "X_tr, Y_tr = load_osuleaf(split = \"train\")\n",
    "X_te, Y_te = load_osuleaf(split = \"test\")"
   ]
  },
  {
   "cell_type": "markdown",
   "id": "47cebfd0-9161-4170-8814-bb71e6218adf",
   "metadata": {},
   "source": [
    "<br><br><br>\n",
    "# Rocket\n",
    "## `RocketClassifier()`"
   ]
  },
  {
   "cell_type": "code",
   "execution_count": 2,
   "id": "080ebeb7-4624-4605-a6d5-c73e2f1a5e70",
   "metadata": {},
   "outputs": [],
   "source": [
    "from aeon.classification.convolution_based import RocketClassifier"
   ]
  },
  {
   "cell_type": "code",
   "execution_count": 3,
   "id": "8f0aa324-703b-43ad-8ba2-452904c1bc8a",
   "metadata": {},
   "outputs": [
    {
     "data": {
      "text/plain": [
       "0.9421487603305785"
      ]
     },
     "execution_count": 3,
     "metadata": {},
     "output_type": "execute_result"
    }
   ],
   "source": [
    "classifier = RocketClassifier(rocket_transform = \"rocket\", random_state = 0, n_jobs = -1)\n",
    "\n",
    "classifier.fit(X_tr, Y_tr)\n",
    "\n",
    "classifier.score(X_te, Y_te)"
   ]
  },
  {
   "cell_type": "markdown",
   "id": "7119352d-9217-4618-9680-1bef917721f5",
   "metadata": {},
   "source": [
    "<br><br><br>\n",
    "# MiniRocket\n",
    "## `RocketClassifier(rocket_transform = \"minirocket\")`"
   ]
  },
  {
   "cell_type": "code",
   "execution_count": 4,
   "id": "7885705d-c211-45cf-b7f9-8e6746497172",
   "metadata": {},
   "outputs": [],
   "source": [
    "# from aeon.classification.convolution_based import RocketClassifier"
   ]
  },
  {
   "cell_type": "code",
   "execution_count": 5,
   "id": "64976c3b-7777-43c2-aa0d-c1fbfe8f235c",
   "metadata": {},
   "outputs": [
    {
     "data": {
      "text/plain": [
       "0.9586776859504132"
      ]
     },
     "execution_count": 5,
     "metadata": {},
     "output_type": "execute_result"
    }
   ],
   "source": [
    "classifier = RocketClassifier(rocket_transform = \"minirocket\", random_state = 0, n_jobs = -1)\n",
    "\n",
    "classifier.fit(X_tr, Y_tr)\n",
    "\n",
    "classifier.score(X_te, Y_te)"
   ]
  },
  {
   "cell_type": "markdown",
   "id": "156905f7-ad0d-4826-b40c-3512926a56e2",
   "metadata": {},
   "source": [
    "<br><!---->\n",
    "## Parameter Tuning: **Num. Features**\n",
    "## `GridSearchCV()`"
   ]
  },
  {
   "cell_type": "markdown",
   "id": "90d7a33c-542c-49c5-8691-45958357140f",
   "metadata": {},
   "source": [
    "Grid search for the number of features (`num_kernels`) $\\in \\{100, 1{,}000, 10{,}000\\}$ using `GridSearchCV()` (sklearn)."
   ]
  },
  {
   "cell_type": "markdown",
   "id": "2106764a-2047-4a5a-8929-f46766f0b643",
   "metadata": {},
   "source": [
    "*[allow 5-10s]*"
   ]
  },
  {
   "cell_type": "code",
   "execution_count": 6,
   "id": "1b8897fe-2e44-4bc1-bb68-d4ed5f5f6398",
   "metadata": {},
   "outputs": [
    {
     "data": {
      "image/png": "[encoded data removed]",
      "text/plain": [
       "<Figure size 600x400 with 1 Axes>"
      ]
     },
     "metadata": {},
     "output_type": "display_data"
    }
   ],
   "source": [
    "from sklearn.model_selection import GridSearchCV\n",
    "import matplotlib.pyplot as pl\n",
    "\n",
    "# ==============================================================================\n",
    "# == fit =======================================================================\n",
    "# ==============================================================================\n",
    "\n",
    "param_grid = \\\n",
    "{\n",
    "    \"num_kernels\" : [100, 1_000, 10_000],\n",
    "}\n",
    "\n",
    "gs = GridSearchCV(\n",
    "    RocketClassifier(rocket_transform = \"minirocket\", random_state = 0, n_jobs = 1),\n",
    "    param_grid,\n",
    "    n_jobs = -1,\n",
    ")\n",
    "\n",
    "gs.fit(X_tr, Y_tr)\n",
    "\n",
    "# ==============================================================================\n",
    "# == plot results ==============================================================\n",
    "# ==============================================================================\n",
    "\n",
    "f, a = pl.subplots(1, 1, figsize = (6, 4))\n",
    "\n",
    "a.plot(gs.param_grid[\"num_kernels\"], gs.cv_results_[\"mean_test_score\"], \".-\")\n",
    "a.set_xscale(\"log\", base = 10)\n",
    "\n",
    "a.set(\n",
    "    ylabel = \"accuracy\",\n",
    "    xlabel = \"num_features\",\n",
    ")\n",
    "\n",
    "pl.show()"
   ]
  },
  {
   "cell_type": "markdown",
   "id": "7a748ad8-c6f8-488e-94ba-a610ffef72d7",
   "metadata": {},
   "source": [
    "Fit/score with best configuration."
   ]
  },
  {
   "cell_type": "code",
   "execution_count": 7,
   "id": "48633676-15fc-42b6-8f1f-e6033106aab3",
   "metadata": {},
   "outputs": [
    {
     "data": {
      "text/plain": [
       "0.9586776859504132"
      ]
     },
     "execution_count": 7,
     "metadata": {},
     "output_type": "execute_result"
    }
   ],
   "source": [
    "gs.score(X_te, Y_te)"
   ]
  },
  {
   "cell_type": "markdown",
   "id": "f63d4b2f-2de5-4a4e-b60d-cf53e47b8418",
   "metadata": {},
   "source": [
    "<br><br><br>\n",
    "# MultiRocket\n",
    "## `RocketClassifier(rocket_transform = \"multirocket\")`"
   ]
  },
  {
   "cell_type": "code",
   "execution_count": 8,
   "id": "18c7dfcc-6cac-4380-b69c-0a60a46a3df8",
   "metadata": {},
   "outputs": [],
   "source": [
    "# from aeon.classification.convolution_based import RocketClassifier"
   ]
  },
  {
   "cell_type": "code",
   "execution_count": 9,
   "id": "24a97e4b-eae5-4985-8bb1-4c5c4d2c55c6",
   "metadata": {},
   "outputs": [
    {
     "data": {
      "text/plain": [
       "0.9628099173553719"
      ]
     },
     "execution_count": 9,
     "metadata": {},
     "output_type": "execute_result"
    }
   ],
   "source": [
    "classifier = RocketClassifier(rocket_transform = \"multirocket\", random_state = 0, n_jobs = -1)\n",
    "\n",
    "classifier.fit(X_tr, Y_tr)\n",
    "\n",
    "classifier.score(X_te, Y_te)"
   ]
  },
  {
   "cell_type": "markdown",
   "id": "36d96578-e9cd-4122-a543-844ae55d490d",
   "metadata": {},
   "source": [
    "<br><br><br>\n",
    "# Hydra\n",
    "## `HydraClassifier()`"
   ]
  },
  {
   "cell_type": "code",
   "execution_count": 10,
   "id": "09986e35-2aa0-40c5-baf6-cb502af03234",
   "metadata": {},
   "outputs": [],
   "source": [
    "from aeon.classification.convolution_based import HydraClassifier"
   ]
  },
  {
   "cell_type": "code",
   "execution_count": 11,
   "id": "e5093ec1-aba6-433f-910e-5bd0a0fda997",
   "metadata": {},
   "outputs": [
    {
     "data": {
      "text/plain": [
       "0.987603305785124"
      ]
     },
     "execution_count": 11,
     "metadata": {},
     "output_type": "execute_result"
    }
   ],
   "source": [
    "classifier = HydraClassifier(n_jobs = -1, random_state = 0)\n",
    "\n",
    "classifier.fit(X_tr, Y_tr)\n",
    "\n",
    "classifier.score(X_te, Y_te)"
   ]
  },
  {
   "cell_type": "markdown",
   "id": "aa201fa9-9075-47bd-bbc2-39f12e90ef8d",
   "metadata": {},
   "source": [
    "<br><!---->\n",
    "## Parameter Tuning: **Num. Groups (`g`), Num. Kernels Per Group (`k`)**\n",
    "## `RandomizedSearchCV()`"
   ]
  },
  {
   "cell_type": "markdown",
   "id": "4843a412-0848-4331-b77d-e9618ad74da2",
   "metadata": {},
   "source": [
    "Random search over $k \\in \\{2, 4, 8, 16, 32\\}$ and $g \\in \\{1, 2, 4, 8, 16, 32, 64, 128\\}$ using `RandomizedSearchCV()` (sklearn)."
   ]
  },
  {
   "cell_type": "markdown",
   "id": "608944fd-bef8-448f-8ec7-90d906aa1327",
   "metadata": {},
   "source": [
    "*[allow 15-20s]*"
   ]
  },
  {
   "cell_type": "code",
   "execution_count": 12,
   "id": "3d0bf0c7-efdf-438d-9aa8-80fce9dc9d0e",
   "metadata": {},
   "outputs": [
    {
     "data": {
      "image/png": "[encoded data removed]",
      "text/plain": [
       "<Figure size 600x400 with 1 Axes>"
      ]
     },
     "metadata": {},
     "output_type": "display_data"
    }
   ],
   "source": [
    "from sklearn.model_selection import RandomizedSearchCV\n",
    "import numpy as np\n",
    "import matplotlib.pyplot as pl\n",
    "\n",
    "# ==============================================================================\n",
    "# == fit =======================================================================\n",
    "# ==============================================================================\n",
    "\n",
    "param_grid = \\\n",
    "{\n",
    "    \"n_kernels\" : [2, 4, 8, 16, 32],\n",
    "    \"n_groups\"  : [1, 2, 4, 8, 16, 32, 64, 128],\n",
    "}\n",
    "\n",
    "rs = RandomizedSearchCV(\n",
    "    HydraClassifier(random_state = 0, n_jobs = 1),\n",
    "    param_grid,\n",
    "    random_state = 0,\n",
    "    n_jobs = -1,\n",
    ")\n",
    "\n",
    "rs.fit(X_tr, Y_tr)\n",
    "\n",
    "# ==============================================================================\n",
    "# == plot results ==============================================================\n",
    "# ==============================================================================\n",
    "\n",
    "_scores = rs.cv_results_[\"mean_test_score\"]\n",
    "_params = np.array([f\"k={_[0]}\\ng={_[1]}\" for _ in [tuple(_.values()) for _ in rs.cv_results_[\"params\"]]])\n",
    "_order = _scores.argsort()\n",
    "\n",
    "f, a = pl.subplots(1, 1, figsize = (6, 4))\n",
    "\n",
    "a.plot(_params[_order], _scores[_order], \".-\")\n",
    "\n",
    "a.set(\n",
    "    xlabel = \"k/g\",\n",
    "    ylabel = \"accuracy\",\n",
    ")\n",
    "\n",
    "pl.show()"
   ]
  },
  {
   "cell_type": "markdown",
   "id": "ed33c517-dbd5-42e0-9a5a-9df0ecb42d5b",
   "metadata": {},
   "source": [
    "Fit/score with best configuration."
   ]
  },
  {
   "cell_type": "code",
   "execution_count": 13,
   "id": "c72102b0-dea1-4f9d-82b0-7c66b65399c2",
   "metadata": {},
   "outputs": [
    {
     "data": {
      "text/plain": [
       "0.9917355371900827"
      ]
     },
     "execution_count": 13,
     "metadata": {},
     "output_type": "execute_result"
    }
   ],
   "source": [
    "rs.score(X_te, Y_te)"
   ]
  },
  {
   "cell_type": "markdown",
   "id": "caf40e71-c952-4f2c-b5c5-e096cb0cd264",
   "metadata": {},
   "source": [
    "<br><br><br>\n",
    "# MultiRocket+Hydra\n",
    "## `MultiRocketHydraClassifier()`"
   ]
  },
  {
   "cell_type": "code",
   "execution_count": 14,
   "id": "d1463b50-5374-4daf-a094-5efbf17e1c2c",
   "metadata": {},
   "outputs": [],
   "source": [
    "from aeon.classification.convolution_based import MultiRocketHydraClassifier"
   ]
  },
  {
   "cell_type": "code",
   "execution_count": 15,
   "id": "62ddcd58-4c74-441a-83f5-8470483fb76e",
   "metadata": {},
   "outputs": [
    {
     "data": {
      "text/plain": [
       "0.9628099173553719"
      ]
     },
     "execution_count": 15,
     "metadata": {},
     "output_type": "execute_result"
    }
   ],
   "source": [
    "classifier = MultiRocketHydraClassifier(random_state = 0, n_jobs = -1)\n",
    "\n",
    "classifier.fit(X_tr, Y_tr)\n",
    "\n",
    "classifier.score(X_te, Y_te)"
   ]
  },
  {
   "cell_type": "markdown",
   "id": "c7e9524d-d5eb-4d19-976d-779f44b15b88",
   "metadata": {},
   "source": [
    "`[END]`"
   ]
  }
 ],
 "metadata": {
  "kernelspec": {
   "display_name": "Python 3 (ipykernel)",
   "language": "python",
   "name": "python3"
  },
  "language_info": {
   "codemirror_mode": {
    "name": "ipython",
    "version": 3
   },
   "file_extension": ".py",
   "mimetype": "text/x-python",
   "name": "python",
   "nbconvert_exporter": "python",
   "pygments_lexer": "ipython3",
   "version": "3.11.7"
  }
 },
 "nbformat": 4,
 "nbformat_minor": 5
}
