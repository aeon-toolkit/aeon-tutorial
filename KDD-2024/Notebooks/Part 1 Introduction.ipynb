{
 "cells": [
  {
   "cell_type": "markdown",
   "source": [
    "# KDD Hands on tutorial, Barcelona 2024\n",
    "\n",
    "# An Introduction to Time Series Classification and Regression\n",
    "\n",
    "This is the notebook associated with the introduction to the hands-on tutorial on time\n",
    "series classification and regression. The tutorial website is [here]\n",
    "(https://aeon-tutorials.github.io/KDD-2024/) and the structure is\n",
    "listed [here](https://aeon-tutorials.github.io/KDD-2024/schedule.html). There are ten\n",
    " sections, with a separate notebook for each section. The sections are:\n",
    "\n",
    "1. Introduction to Time Series Classification and Regression (this notebook)\n",
    "2. [Distance based](Part 2 distance based.ipynb)\n",
    "3. [Convolutions](Part 3 convolution based.ipynb)\n",
    "4. [Feature based](Part 4 feature based.ipynb)\n",
    "5. [Interval based](Part 5 interval based.ipynb)\n",
    "6. [Dictionary based](Part 6 dictionary based.ipynb)\n",
    "7. [Deep learning based](Part 7 deep learning based.ipynb)\n",
    "8. [Shapelet based](Part 8 shapelet based.ipynb)\n",
    "9. [Hybrids](Part 9 hybrids.ipynb)\n",
    "10. [Conclusions and future directions](Part 10 conclusions.ipynb)\n"
   ],
   "metadata": {
    "collapsed": false
   }
  },
  {
   "cell_type": "markdown",
   "source": [
    "## aeon\n",
    "\n",
    "The tutorial uses the `aeon` toolkit for machine learning from time series data. The"
   ],
   "metadata": {
    "collapsed": false
   }
  }
 ],
 "metadata": {
  "kernelspec": {
   "display_name": "Python 3",
   "language": "python",
   "name": "python3"
  },
  "language_info": {
   "codemirror_mode": {
    "name": "ipython",
    "version": 2
   },
   "file_extension": ".py",
   "mimetype": "text/x-python",
   "name": "python",
   "nbconvert_exporter": "python",
   "pygments_lexer": "ipython2",
   "version": "2.7.6"
  }
 },
 "nbformat": 4,
 "nbformat_minor": 0
}
